{
 "cells": [
  {
   "cell_type": "code",
   "execution_count": 139,
   "id": "6a975f28",
   "metadata": {},
   "outputs": [],
   "source": [
    "import pandas as pd\n",
    "from sklearn import preprocessing\n",
    "from sklearn import metrics\n",
    "import matplotlib.pyplot as plt\n",
    "from sklearn.metrics import confusion_matrix\n",
    "import os\n",
    "import torch\n",
    "import torch.nn as nn\n",
    "import torchvision\n",
    "from torch.utils.data import Dataset, DataLoader\n",
    "from torchvision import transforms\n",
    "import pandas as pd\n",
    "import numpy as np\n",
    "import os\n",
    "import math\n",
    "from torch.optim import Adam"
   ]
  },
  {
   "cell_type": "code",
   "execution_count": 140,
   "id": "c6b15a32-3c67-4bcd-927f-3cae354226e7",
   "metadata": {},
   "outputs": [],
   "source": [
    "data_55=pd.read_csv('./data/sample_data.csv')"
   ]
  },
  {
   "cell_type": "code",
   "execution_count": 143,
   "id": "da82e7c6-83f1-4426-b98f-bba3bd737c01",
   "metadata": {},
   "outputs": [],
   "source": [
    "def prof_categorization(test_55_label):\n",
    "    test_55_label=np.array(test_55_label)\n",
    "    test_55_label=(test_55_label-np.mean(test_55_label))/(np.max(test_55_label)-np.min(test_55_label))\n",
    "    thresh=np.mean(test_55_label)\n",
    "    test_55_label[test_55_label>=thresh]=1\n",
    "    test_55_label[test_55_label<thresh]=0\n",
    "    return test_55_label.tolist()"
   ]
  },
  {
   "cell_type": "code",
   "execution_count": 160,
   "id": "17eafd55-ca82-4172-85bc-81382b849207",
   "metadata": {},
   "outputs": [],
   "source": [
    "def data_process(data_2):\n",
    "    \n",
    "    X_data_2_Prof=data_2\n",
    "    X_data_2_Prof_data = X_data_2_Prof.iloc[ : ,1:15] #training data\n",
    "    X_data_2_Prof_data1=X_data_2_Prof_data.values.tolist()\n",
    "    X_data_2_Prof_label1=X_data_2_Prof['per'].values.tolist()\n",
    "    X_data_2_Prof_label1=prof_categorization(test_55_label)\n",
    "    return X_data_2_Prof_data1, X_data_2_Prof_label1"
   ]
  },
  {
   "cell_type": "code",
   "execution_count": 161,
   "id": "da53734c-5c13-4df3-84a7-6445ce73d681",
   "metadata": {},
   "outputs": [],
   "source": [
    "def train_test_data(i,label):    \n",
    "    \n",
    "    test_data=(globals()[\"X_\"+str(i)+\"_\"+label+\"_data1\"])+(globals()[\"X_\"+str(i)+\"_\"+label+\"_data1\"])+(globals()[\"X_\"+str(i)+\"_\"+label+\"_data1\"])+(globals()[\"X_\"+str(i)+\"_\"+label+\"_data1\"])\n",
    "    test_label=(globals()[\"X_\"+str(i)+\"_\"+label+\"_label1\"])+(globals()[\"X_\"+str(i)+\"_\"+label+\"_label1\"])+(globals()[\"X_\"+str(i)+\"_\"+label+\"_label1\"])+(globals()[\"X_\"+str(i)+\"_\"+label+\"_label1\"])\n",
    "\n",
    "    return test_data, test_label"
   ]
  },
  {
   "cell_type": "code",
   "execution_count": 162,
   "id": "e55f0123-4a36-47db-b5ed-8ee4bb112c40",
   "metadata": {},
   "outputs": [],
   "source": [
    "X_55_Prof_data1, X_55_Prof_label1=data_process(data_55)"
   ]
  },
  {
   "cell_type": "code",
   "execution_count": 163,
   "id": "c4724dbd-46d1-4923-9ee8-6abb074b2e3b",
   "metadata": {},
   "outputs": [],
   "source": [
    "test_55_data, test_55_label=train_test_data(55,\"Prof\")\n"
   ]
  },
  {
   "cell_type": "code",
   "execution_count": 164,
   "id": "965a2e6d",
   "metadata": {},
   "outputs": [],
   "source": [
    "def set_device():\n",
    "    if torch.cuda.is_available():\n",
    "        device=\"cuda\"\n",
    "    else:\n",
    "        device=\"cpu\"\n",
    "    return torch.device(device)\n",
    "device=set_device()"
   ]
  },
  {
   "cell_type": "code",
   "execution_count": 165,
   "id": "f309baa2",
   "metadata": {},
   "outputs": [],
   "source": [
    "# class to represent dataset\n",
    "class HeartDataSet():\n",
    "  \n",
    "    def __init__(self, data, label, transform):\n",
    "        # train dataset\n",
    "        self.data = data\n",
    "        self.label=label\n",
    "        self.transform=transform\n",
    "        self.n_samples = len(data)\n",
    "        \n",
    "    def __len__(self):\n",
    "        return self.n_samples \n",
    "    def __getitem__(self, index):\n",
    "        data=self.data[index]\n",
    "        label=self.label[index]\n",
    "        temp_x1=self.transform(np.expand_dims(np.array(data), axis=0))\n",
    "        temp_x1=temp_x1.squeeze(1)\n",
    "        temp_y1=np.array(label)\n",
    "        #temp_x1=(temp_x1-torch.mean(temp_x1))/(torch.max(temp_x1)-torch.min(temp_x1))\n",
    "        del data\n",
    "        return temp_x1, temp_y1\n",
    "        \n",
    "   \n",
    "  \n"
   ]
  },
  {
   "cell_type": "code",
   "execution_count": 166,
   "id": "b8ddc7a2",
   "metadata": {},
   "outputs": [],
   "source": [
    "transform=transforms.Compose([transforms.ToTensor(),transforms.Normalize(mean=0., std=1.)])"
   ]
  },
  {
   "cell_type": "code",
   "execution_count": 167,
   "id": "bdd13afa",
   "metadata": {},
   "outputs": [],
   "source": [
    "class ProfNet(nn.Module):\n",
    "    def __init__(self):\n",
    "        super().__init__()\n",
    "        self.conv1=nn.Linear(14,20)\n",
    "        self.conv2=nn.Linear(20,50)\n",
    "        self.fc1=nn.Linear(50,30)\n",
    "        self.fc2=nn.Linear(30,2)\n",
    "        \n",
    "    def forward(self,x):\n",
    "        x=x.view(x.size(0),-1) \n",
    "        x=self.conv1(x)\n",
    "        x=self.conv2(x)\n",
    "        x=self.fc1(x)\n",
    "        x=self.fc2(x)\n",
    "        return x"
   ]
  },
  {
   "cell_type": "code",
   "execution_count": 168,
   "id": "f4e1174c",
   "metadata": {},
   "outputs": [],
   "source": [
    "model=ProfNet().double().to(device)\n",
    "ckpt=torch.load('./models/model_55.pth.tar')\n",
    "model.load_state_dict(ckpt['model_55'])\n",
    "model=model.to(device, non_blocking=True)\n",
    "optimizer=torch.optim.Adam(model.parameters(), lr=0.001,betas=(0.9, 0.999))\n",
    "criterion=nn.CrossEntropyLoss()"
   ]
  },
  {
   "cell_type": "code",
   "execution_count": 169,
   "id": "b7e2e727-3cd6-4664-9c68-39f4ceb3f78b",
   "metadata": {},
   "outputs": [],
   "source": [
    "data_te = HeartDataSet(test_55_data, test_55_label, transform=transform)\n",
    "test_dataloader = DataLoader(dataset=data_te, batch_size=32, shuffle=True)"
   ]
  },
  {
   "cell_type": "code",
   "execution_count": 170,
   "id": "4572f240",
   "metadata": {},
   "outputs": [],
   "source": [
    "def evaluate_model(model, test_loader):\n",
    "    model.eval() # moving the model from training mode to evaluation mode\n",
    "    predicted_correctly_on_epoch=0\n",
    "    total=0\n",
    "    #device=set_device()\n",
    "    \n",
    "    orig=torch.empty(0).to(device)\n",
    "    pred=torch.empty(0).to(device)\n",
    "    proba=torch.empty([0,2]).to(device)\n",
    "    # deactivate gradient computation\n",
    "    with torch.no_grad():\n",
    "        for data in test_loader:\n",
    "            features, labels=data\n",
    "            features=features.unsqueeze(1).to(device)  \n",
    "            \n",
    "            labels=labels.to(device)\n",
    "            total+=labels.size(0)\n",
    "            \n",
    "            outputs=model(features.double())\n",
    "            probs=torch.nn.functional.softmax(outputs)\n",
    "            _, predicted=torch.max(outputs.data, 1)\n",
    "            \n",
    "            orig=torch.cat((orig, labels))            \n",
    "            pred=torch.cat((pred, predicted))\n",
    "            proba=torch.cat((proba, probs), axis=0)\n",
    "            \n",
    "\n",
    "            \n",
    "            predicted_correctly_on_epoch+=(predicted==labels).sum().item()\n",
    "            \n",
    "    epoch_acc=100.0*predicted_correctly_on_epoch/total\n",
    "    \n",
    "    print(\" - Testing dataset. Got %d out of %d images correctly (%.3f%%)\" % (predicted_correctly_on_epoch, total, epoch_acc))\n",
    "    return orig, pred, proba"
   ]
  },
  {
   "cell_type": "code",
   "execution_count": 186,
   "id": "c64f2070",
   "metadata": {},
   "outputs": [],
   "source": [
    "def sens_spec_bin(orig, pred, proba, df, sector):\n",
    "    original=orig.cpu().detach().numpy() # convert tensor to numpy array\n",
    "    prede=pred.cpu().detach().numpy() # convert tensor to numpy array\n",
    "    proba=proba.cpu().detach().numpy()\n",
    "    cm=confusion_matrix(original, prede)\n",
    "    sensitivity=cm[1,1]/(cm[1,0]+cm[1,1])\n",
    "    specificity=cm[0,0]/(cm[0,0]+cm[0,1]) \n",
    "    accuracy=(cm[1,1]+cm[0,0])/orig.shape[0]\n",
    "    \n",
    "    \n",
    "    \n",
    "    y_proba=proba[:,1]\n",
    "    \n",
    "\n",
    "    fpr, tpr, _ = metrics.roc_curve(original,  y_proba)\n",
    "    auc = metrics.roc_auc_score(original, y_proba)\n",
    "    \n",
    "    \n",
    "\n",
    "    #create ROC curve\n",
    "    plt.plot(fpr,tpr,label=\"AUC=\"+str(auc))\n",
    "    plt.plot([0, 1],[0, 1],'r-')\n",
    "    plt.ylabel('True Positive Rate')\n",
    "    plt.xlabel('False Positive Rate')\n",
    "    plt.grid()\n",
    "    plt.legend(loc=4)\n",
    "    plt.show()\n",
    "    ValueDict = {'sector':sector, 'sensitivity': sensitivity, 'specificity': specificity, 'accuracy': accuracy, 'area under curve':auc}\n",
    "    \n",
    "    df=df.assign(**ValueDict)\n",
    "\n",
    "    return  df"
   ]
  },
  {
   "cell_type": "code",
   "execution_count": 187,
   "id": "be4f3252",
   "metadata": {},
   "outputs": [
    {
     "name": "stdout",
     "output_type": "stream",
     "text": [
      " - Testing dataset. Got 24 out of 36 images correctly (66.667%)\n"
     ]
    },
    {
     "name": "stderr",
     "output_type": "stream",
     "text": [
      "C:\\Users\\gupta\\AppData\\Local\\Temp\\ipykernel_11608\\3060686746.py:20: UserWarning: Implicit dimension choice for softmax has been deprecated. Change the call to include dim=X as an argument.\n",
      "  probs=torch.nn.functional.softmax(outputs)\n"
     ]
    },
    {
     "data": {
      "image/png": "[encoded data removed]",
      "text/plain": [
       "<Figure size 640x480 with 1 Axes>"
      ]
     },
     "metadata": {},
     "output_type": "display_data"
    }
   ],
   "source": [
    "# 56 results\n",
    "actual_gt, predictions, prediction_probs=evaluate_model(model, test_dataloader)\n",
    "data55=pd.DataFrame(columns=['sector','sensitivity', 'specificity', 'accuracy', 'Average'])\n",
    "data55=sens_spec_bin(actual_gt, predictions, prediction_probs,data55, 56)"
   ]
  },
  {
   "cell_type": "code",
   "execution_count": null,
   "id": "04c9f5ca-7053-4c94-b666-dc125572920d",
   "metadata": {},
   "outputs": [],
   "source": []
  }
 ],
 "metadata": {
  "kernelspec": {
   "display_name": "Python 3 (ipykernel)",
   "language": "python",
   "name": "python3"
  },
  "language_info": {
   "codemirror_mode": {
    "name": "ipython",
    "version": 3
   },
   "file_extension": ".py",
   "mimetype": "text/x-python",
   "name": "python",
   "nbconvert_exporter": "python",
   "pygments_lexer": "ipython3",
   "version": "3.11.7"
  }
 },
 "nbformat": 4,
 "nbformat_minor": 5
}
